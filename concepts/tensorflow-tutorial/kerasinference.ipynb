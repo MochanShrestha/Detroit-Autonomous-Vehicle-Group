{
 "cells": [
  {
   "cell_type": "code",
   "execution_count": 21,
   "metadata": {
    "collapsed": true
   },
   "outputs": [],
   "source": [
    "# Imports\n",
    "\n",
    "%matplotlib inline\n",
    "\n",
    "import matplotlib.pyplot as plt\n",
    "import numpy as np\n",
    "\n",
    "import tensorflow as tf\n",
    "import keras\n",
    "import keras.layers\n",
    "import keras.objectives\n",
    "import keras.metrics\n",
    "import keras.models\n",
    "\n",
    "from tensorflow.examples.tutorials.mnist import input_data"
   ]
  },
  {
   "cell_type": "code",
   "execution_count": 22,
   "metadata": {},
   "outputs": [
    {
     "name": "stdout",
     "output_type": "stream",
     "text": [
      "Extracting MNIST_data\\train-images-idx3-ubyte.gz\n"
     ]
    },
    {
     "name": "stdout",
     "output_type": "stream",
     "text": [
      "Extracting MNIST_data\\train-labels-idx1-ubyte.gz\nExtracting MNIST_data\\t10k-images-idx3-ubyte.gz\nExtracting MNIST_data\\t10k-labels-idx1-ubyte.gz\n"
     ]
    }
   ],
   "source": [
    "# Load the MNIST data\n",
    "mnist_data = input_data.read_data_sets('MNIST_data', one_hot=True)"
   ]
  },
  {
   "cell_type": "code",
   "execution_count": 23,
   "metadata": {},
   "outputs": [],
   "source": [
    "# this placeholder will contain our input digits, as flat vectors\n",
    "img = tf.placeholder(tf.float32, shape=(None, 784))"
   ]
  },
  {
   "cell_type": "code",
   "execution_count": 24,
   "metadata": {},
   "outputs": [],
   "source": [
    "model = keras.Sequential()\n",
    "model.add(keras.layers.Dense(128, activation='relu', input_dim=784))\n",
    "model.add(keras.layers.Dense(128, activation='relu'))\n",
    "model.add(keras.layers.Dense(10, activation='softmax'))\n",
    "\n",
    "preds = model(img)"
   ]
  },
  {
   "cell_type": "code",
   "execution_count": 25,
   "metadata": {},
   "outputs": [
    {
     "name": "stdout",
     "output_type": "stream",
     "text": [
      "[[  1.91266011e-07   1.09380353e-05   1.86345918e-04   1.35149734e-04\n    7.40836281e-09   1.72794535e-06   1.72381642e-09   9.99650121e-01\n    9.13516669e-06   6.32785941e-06]\n [  7.19156787e-08   4.23536228e-04   9.99398828e-01   1.69485429e-04\n    4.38668586e-08   6.84168384e-08   1.51741048e-07   5.22544951e-06\n    2.44687794e-06   8.89754881e-10]\n [  4.14131250e-07   9.99600112e-01   1.52102366e-04   1.39300564e-05\n    4.89010818e-05   6.33142372e-06   1.05504259e-05   1.35443101e-04\n    2.89344935e-05   3.32323475e-06]\n [  9.89194989e-01   1.02978855e-04   3.89271905e-03   1.10550900e-04\n    2.39254965e-04   2.31614933e-04   2.13391101e-03   3.01136775e-03\n    7.56544250e-05   1.00710080e-03]\n [  4.48051105e-05   5.41012014e-06   9.94297952e-05   9.51784932e-06\n    9.64598656e-01   3.62708233e-05   3.88250657e-04   5.35348896e-04\n    3.39541111e-05   3.42484973e-02]\n [  3.59753400e-08   9.99918222e-01   1.42632498e-05   1.58799776e-06\n    1.11422560e-05   2.91294555e-07   3.97804399e-07   5.07532786e-05\n    2.56545491e-06   8.73200122e-07]\n [  1.59776300e-06   1.56536807e-05   8.81163942e-06   1.10288499e-06\n    9.99461949e-01   4.66525271e-05   2.55255087e-04   1.57835966e-04\n    2.56811836e-05   2.53600901e-05]\n [  1.90766004e-05   1.07999236e-04   3.56652978e-04   7.24683180e-02\n    1.81083870e-03   2.20563356e-03   1.40243378e-06   1.34277835e-01\n    1.74139929e-03   7.87010849e-01]\n [  1.76007289e-03   9.04307381e-05   1.13247056e-03   5.94493875e-04\n    1.08387191e-02   1.41932731e-02   9.70238566e-01   4.46600679e-05\n    1.03951874e-03   6.77935896e-05]]\n"
     ]
    }
   ],
   "source": [
    "# Get 9 images to get the inference for\n",
    "inf_images = mnist_data.test.images[:9]\n",
    "\n",
    "sess = tf.Session()\n",
    "\n",
    "# Initialize all variables\n",
    "init_op = tf.global_variables_initializer()\n",
    "\n",
    "with sess.as_default():\n",
    "    # Restore variables from disk.\n",
    "    sess.run(init_op)       \n",
    "    model.load_weights('./concepts/tensorflow-tutorial/nmist.h5')\n",
    "    \n",
    "    inf_labels = sess.run(preds, feed_dict={img: inf_images})\n",
    "    \n",
    "print (inf_labels)"
   ]
  },
  {
   "cell_type": "code",
   "execution_count": 26,
   "metadata": {},
   "outputs": [],
   "source": [
    "# Code to draw the images nicely\n",
    "\n",
    "# We know that MNIST images are 28 pixels in each dimension.\n",
    "img_size = 28\n",
    "# Images are stored in one-dimensional arrays of this length.\n",
    "img_size_flat = img_size * img_size\n",
    "# Tuple with height and width of images used to reshape arrays.\n",
    "img_shape = (img_size, img_size)\n",
    "# Number of classes, one class for each of 10 digits.\n",
    "num_classes = 10\n",
    "\n",
    "def plot_images(images, cls_true, cls_pred=None):\n",
    "    assert len(images) == len(cls_true) == 9\n",
    "    \n",
    "    # Create figure with 3x3 sub-plots.\n",
    "    fig, axes = plt.subplots(3, 3)\n",
    "    fig.subplots_adjust(hspace=0.3, wspace=0.3)\n",
    "\n",
    "    for i, ax in enumerate(axes.flat):\n",
    "        # Plot image.\n",
    "        ax.imshow(images[i].reshape(img_shape), cmap='binary')\n",
    "\n",
    "        # Show true and predicted classes.\n",
    "        if cls_pred is None:\n",
    "            xlabel = \"True: {0}\".format(cls_true[i])\n",
    "        else:\n",
    "            xlabel = \"True: {0}, Pred: {1}\".format(cls_true[i], cls_pred[i])\n",
    "\n",
    "        ax.set_xlabel(xlabel)\n",
    "        \n",
    "        # Remove ticks from the plot.\n",
    "        ax.set_xticks([])\n",
    "        ax.set_yticks([])\n",
    "        \n",
    "    # Ensure the plot is shown correctly with multiple plots\n",
    "    # in a single Notebook cell.\n",
    "    plt.show()"
   ]
  },
  {
   "cell_type": "code",
   "execution_count": 27,
   "metadata": {},
   "outputs": [
    {
     "name": "stdout",
     "output_type": "stream",
     "text": [
      "[7 2 1 0 4 1 4 9 6]\n"
     ]
    },
    {
     "data": {
      "image/png": "[encoded data removed]",
      "text/plain": [
       "<matplotlib.figure.Figure at 0x1630fcc06d8>"
      ]
     },
     "metadata": {},
     "output_type": "display_data"
    }
   ],
   "source": [
    "# Get the highest probability labels as the predicted digit \n",
    "pred_classes = np.array([label.argmax() for label in inf_labels])\n",
    "print(pred_classes)\n",
    "\n",
    "# Plot the images and labels using our helper-function above.\n",
    "plot_images(images=inf_images, cls_true=pred_classes)"
   ]
  },
  {
   "cell_type": "code",
   "execution_count": null,
   "metadata": {},
   "outputs": [],
   "source": []
  }
 ],
 "metadata": {
  "kernelspec": {
   "display_name": "Python 2",
   "language": "python",
   "name": "python2"
  },
  "language_info": {
   "codemirror_mode": {
    "name": "ipython",
    "version": 2
   },
   "file_extension": ".py",
   "mimetype": "text/x-python",
   "name": "python",
   "nbconvert_exporter": "python",
   "pygments_lexer": "ipython2",
   "version": "2.7.6"
  }
 },
 "nbformat": 4,
 "nbformat_minor": 0
}
