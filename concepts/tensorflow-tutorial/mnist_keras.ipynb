{
 "cells": [
  {
   "cell_type": "markdown",
   "metadata": {},
   "source": [
    "## MNIST dataset"
   ]
  },
  {
   "cell_type": "code",
   "execution_count": 18,
   "metadata": {},
   "outputs": [],
   "source": [
    "# Imports\n",
    "\n",
    "%matplotlib inline\n",
    "\n",
    "import matplotlib.pyplot as plt\n",
    "import numpy as np\n",
    "\n",
    "import tensorflow as tf\n",
    "import keras\n",
    "import keras.layers\n",
    "import keras.objectives\n",
    "import keras.metrics\n",
    "import keras.models\n",
    "\n",
    "from tensorflow.examples.tutorials.mnist import input_data"
   ]
  },
  {
   "cell_type": "code",
   "execution_count": 19,
   "metadata": {
    "collapsed": true
   },
   "outputs": [
    {
     "name": "stdout",
     "output_type": "stream",
     "text": [
      "Extracting MNIST_data\\train-images-idx3-ubyte.gz\n"
     ]
    },
    {
     "name": "stdout",
     "output_type": "stream",
     "text": [
      "Extracting MNIST_data\\train-labels-idx1-ubyte.gz\nExtracting MNIST_data\\t10k-images-idx3-ubyte.gz\nExtracting MNIST_data\\t10k-labels-idx1-ubyte.gz\n"
     ]
    }
   ],
   "source": [
    "# Load the MNIST data\n",
    "mnist_data = input_data.read_data_sets('MNIST_data', one_hot=True)"
   ]
  },
  {
   "cell_type": "code",
   "execution_count": 20,
   "metadata": {},
   "outputs": [
    {
     "name": "stdout",
     "output_type": "stream",
     "text": [
      "[[ 0.  0.  0.  0.  0.  0.  0.  1.  0.  0.]\n [ 0.  0.  0.  1.  0.  0.  0.  0.  0.  0.]\n [ 0.  0.  0.  0.  1.  0.  0.  0.  0.  0.]\n [ 0.  0.  0.  0.  0.  0.  1.  0.  0.  0.]\n [ 0.  1.  0.  0.  0.  0.  0.  0.  0.  0.]\n [ 0.  0.  0.  0.  0.  0.  0.  0.  1.  0.]\n [ 0.  1.  0.  0.  0.  0.  0.  0.  0.  0.]\n [ 1.  0.  0.  0.  0.  0.  0.  0.  0.  0.]\n [ 0.  0.  0.  0.  0.  0.  0.  0.  0.  1.]\n [ 0.  0.  0.  0.  0.  0.  0.  0.  1.  0.]]\n[7 3 4 6 1 8 1 0 9 8]\n"
     ]
    }
   ],
   "source": [
    "# How are the labels encoded? They are one-hot encoded\n",
    "print (mnist_data.train.labels[:10])\n",
    "train_classes = np.array([label.argmax() for label in mnist_data.train.labels])\n",
    "print (train_classes[:10])"
   ]
  },
  {
   "cell_type": "code",
   "execution_count": 21,
   "metadata": {},
   "outputs": [
    {
     "name": "stdout",
     "output_type": "stream",
     "text": [
      "55000\n10000\n5000\n"
     ]
    }
   ],
   "source": [
    "# Size of our dataset\n",
    "print (len(mnist_data.train.labels))\n",
    "print (len(mnist_data.test.labels))\n",
    "print (len(mnist_data.validation.labels))"
   ]
  },
  {
   "cell_type": "code",
   "execution_count": 22,
   "metadata": {},
   "outputs": [],
   "source": [
    "# We know that MNIST images are 28 pixels in each dimension.\n",
    "img_size = 28\n",
    "# Images are stored in one-dimensional arrays of this length.\n",
    "img_size_flat = img_size * img_size\n",
    "# Tuple with height and width of images used to reshape arrays.\n",
    "img_shape = (img_size, img_size)\n",
    "# Number of classes, one class for each of 10 digits.\n",
    "num_classes = 10\n",
    "\n",
    "def plot_images(images, cls_true, cls_pred=None):\n",
    "    assert len(images) == len(cls_true) == 9\n",
    "    \n",
    "    # Create figure with 3x3 sub-plots.\n",
    "    fig, axes = plt.subplots(3, 3)\n",
    "    fig.subplots_adjust(hspace=0.3, wspace=0.3)\n",
    "\n",
    "    for i, ax in enumerate(axes.flat):\n",
    "        # Plot image.\n",
    "        ax.imshow(images[i].reshape(img_shape), cmap='binary')\n",
    "\n",
    "        # Show true and predicted classes.\n",
    "        if cls_pred is None:\n",
    "            xlabel = \"True: {0}\".format(cls_true[i])\n",
    "        else:\n",
    "            xlabel = \"True: {0}, Pred: {1}\".format(cls_true[i], cls_pred[i])\n",
    "\n",
    "        ax.set_xlabel(xlabel)\n",
    "        \n",
    "        # Remove ticks from the plot.\n",
    "        ax.set_xticks([])\n",
    "        ax.set_yticks([])\n",
    "        \n",
    "    # Ensure the plot is shown correctly with multiple plots\n",
    "    # in a single Notebook cell.\n",
    "    plt.show()"
   ]
  },
  {
   "cell_type": "code",
   "execution_count": 23,
   "metadata": {},
   "outputs": [
    {
     "data": {
      "image/png": "[encoded data removed]",
      "text/plain": [
       "<matplotlib.figure.Figure at 0x1add5f857f0>"
      ]
     },
     "metadata": {},
     "output_type": "display_data"
    }
   ],
   "source": [
    "# Get the first images from the test-set.\n",
    "images = mnist_data.train.images[:9]\n",
    "\n",
    "# Get the true classes for those images.\n",
    "cls_true = train_classes[:9]\n",
    "\n",
    "# Plot the images and labels using our helper-function above.\n",
    "plot_images(images=images, cls_true=cls_true)"
   ]
  },
  {
   "cell_type": "markdown",
   "metadata": {},
   "source": [
    "## Keras training model"
   ]
  },
  {
   "cell_type": "code",
   "execution_count": 36,
   "metadata": {},
   "outputs": [],
   "source": [
    "# this placeholder will contain our input digits, as flat vectors\n",
    "img = tf.placeholder(tf.float32, shape=(None, 784))"
   ]
  },
  {
   "cell_type": "code",
   "execution_count": 37,
   "metadata": {},
   "outputs": [],
   "source": [
    "model = keras.Sequential()\n",
    "model.add(keras.layers.Dense(128, activation='relu', input_dim=784))\n",
    "model.add(keras.layers.Dense(128, activation='relu'))\n",
    "model.add(keras.layers.Dense(10, activation='softmax'))\n",
    "\n",
    "preds = model(img)"
   ]
  },
  {
   "cell_type": "code",
   "execution_count": 38,
   "metadata": {},
   "outputs": [],
   "source": [
    "# placeholder for the one hot label\n",
    "labels = tf.placeholder(tf.float32, shape=(None, 10))"
   ]
  },
  {
   "cell_type": "code",
   "execution_count": 41,
   "metadata": {},
   "outputs": [],
   "source": [
    "loss = tf.reduce_mean(keras.objectives.categorical_crossentropy(labels, preds))"
   ]
  },
  {
   "cell_type": "code",
   "execution_count": 42,
   "metadata": {},
   "outputs": [],
   "source": [
    "# Uset the gradient descent optimizer\n",
    "train_step = tf.train.GradientDescentOptimizer(0.5).minimize(loss)"
   ]
  },
  {
   "cell_type": "code",
   "execution_count": 44,
   "metadata": {},
   "outputs": [
    {
     "name": "stdout",
     "output_type": "stream",
     "text": [
      "done\n"
     ]
    }
   ],
   "source": [
    "# Run tensorflow for training\n",
    "sess = tf.Session()\n",
    "keras.backend.set_session(sess)\n",
    "\n",
    "# Initialize all variables\n",
    "init_op = tf.global_variables_initializer()\n",
    "sess.run(init_op)\n",
    "\n",
    "# Run training loop\n",
    "with sess.as_default():\n",
    "    for i in range(1000):\n",
    "        batch = mnist_data.train.next_batch(50)\n",
    "        train_step.run(feed_dict={img: batch[0],\n",
    "                                  labels: batch[1]})        \n",
    "\n",
    "print('done')"
   ]
  },
  {
   "cell_type": "code",
   "execution_count": 45,
   "metadata": {},
   "outputs": [],
   "source": [
    "# Save the current model to disk\n",
    "\n",
    "model.save_weights('./concepts/tensorflow-tutorial/nmist.h5')"
   ]
  },
  {
   "cell_type": "code",
   "execution_count": 46,
   "metadata": {},
   "outputs": [
    {
     "name": "stdout",
     "output_type": "stream",
     "text": [
      "96.23\n"
     ]
    }
   ],
   "source": [
    "# Check the accuracy of the model\n",
    "acc_value = keras.metrics.categorical_accuracy(labels, preds)\n",
    "with sess.as_default():\n",
    "    test_ans = acc_value.eval(feed_dict={img: mnist_data.test.images,\n",
    "                                    labels: mnist_data.test.labels})\n",
    "    \n",
    "print ( sum(test_ans)/len(test_ans) * 100)"
   ]
  },
  {
   "cell_type": "markdown",
   "metadata": {},
   "source": [
    "## Inference"
   ]
  },
  {
   "cell_type": "code",
   "execution_count": 33,
   "metadata": {},
   "outputs": [
    {
     "name": "stdout",
     "output_type": "stream",
     "text": [
      "[[  2.38076100e-04   6.91744617e-06   1.11303013e-03   2.04390031e-04\n    1.69037667e-05   1.31572931e-04   1.91618119e-06   9.95655060e-01\n    1.26041969e-05   2.61953403e-03]\n [  2.36290944e-04   1.27589128e-05   9.95261908e-01   2.88117790e-05\n    1.27379587e-06   1.34992006e-03   2.46094377e-03   1.54612262e-05\n    6.31449977e-04   1.13730869e-06]\n [  9.02014071e-05   9.83654201e-01   5.82952285e-03   9.69499000e-04\n    8.13710154e-04   1.28391327e-03   1.05475646e-03   3.15066497e-03\n    2.23599002e-03   9.17547441e-04]\n [  9.99815881e-01   2.19547118e-08   1.82940148e-05   4.69201183e-07\n    1.88639845e-07   8.70542499e-05   7.61891988e-06   6.86829881e-05\n    1.11315296e-06   8.67308131e-07]\n [  1.41654378e-02   1.74191466e-03   2.96071544e-02   1.86129299e-03\n    6.77090824e-01   4.79337992e-03   3.21070366e-02   1.52573008e-02\n    1.32944621e-02   2.10081220e-01]\n [  5.93234790e-06   9.97149646e-01   1.01031177e-03   1.52196575e-04\n    1.10805115e-04   8.68495044e-05   4.35013753e-05   1.00216223e-03\n    2.53677514e-04   1.85013385e-04]\n [  1.64142146e-03   3.72871943e-03   4.00207983e-03   6.59164740e-03\n    7.04363048e-01   2.85175350e-02   5.56120090e-03   5.89861115e-03\n    1.11674488e-01   1.28021285e-01]\n [  3.38052283e-03   4.60780878e-03   9.38832294e-03   2.03682482e-02\n    1.64226934e-01   2.31143106e-02   2.59593828e-03   3.94501686e-02\n    1.36253731e-02   7.19242394e-01]\n [  6.43799501e-03   1.86081626e-03   1.36259452e-01   4.68241924e-04\n    9.07503590e-02   9.94227640e-03   7.35894203e-01   8.49468925e-04\n    9.88341402e-03   7.65390228e-03]]\n"
     ]
    }
   ],
   "source": [
    "# Get 9 images to get the inference for\n",
    "inf_images = mnist_data.test.images[:9]\n",
    "\n",
    "with sess.as_default():    \n",
    "    inf_labels = sess.run(preds, feed_dict={img: inf_images})\n",
    "    \n",
    "print (inf_labels)"
   ]
  },
  {
   "cell_type": "code",
   "execution_count": 34,
   "metadata": {},
   "outputs": [
    {
     "name": "stdout",
     "output_type": "stream",
     "text": [
      "[7 2 1 0 4 1 4 9 6]\n"
     ]
    },
    {
     "data": {
      "image/png": "[encoded data removed]",
      "text/plain": [
       "<matplotlib.figure.Figure at 0x1add8acda20>"
      ]
     },
     "metadata": {},
     "output_type": "display_data"
    }
   ],
   "source": [
    "# Get the highest probability labels as the predicted digit \n",
    "pred_classes = np.array([label.argmax() for label in inf_labels])\n",
    "print(pred_classes)\n",
    "\n",
    "# Plot the images and labels using our helper-function above.\n",
    "plot_images(images=inf_images, cls_true=pred_classes)"
   ]
  },
  {
   "cell_type": "code",
   "execution_count": null,
   "metadata": {},
   "outputs": [],
   "source": []
  }
 ],
 "metadata": {
  "kernelspec": {
   "display_name": "Python 2",
   "language": "python",
   "name": "python2"
  },
  "language_info": {
   "codemirror_mode": {
    "name": "ipython",
    "version": 2
   },
   "file_extension": ".py",
   "mimetype": "text/x-python",
   "name": "python",
   "nbconvert_exporter": "python",
   "pygments_lexer": "ipython2",
   "version": "2.7.6"
  }
 },
 "nbformat": 4,
 "nbformat_minor": 0
}
